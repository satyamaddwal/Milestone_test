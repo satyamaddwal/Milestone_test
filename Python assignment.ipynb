{
 "cells": [
  {
   "cell_type": "code",
   "execution_count": 20,
   "id": "935c703d-95da-4efb-8f47-f327ded396fc",
   "metadata": {},
   "outputs": [
    {
     "name": "stdout",
     "output_type": "stream",
     "text": [
      "8\n",
      "['Mohan', 'dash', 'karam', 'chandra', 'gandhi', 'Bapuji']\n"
     ]
    }
   ],
   "source": [
    "'''\n",
    "Q1.3 do the following operations in the list\n",
    "'''\n",
    "name = ['Mohan', 'dash', 'karam', 'chandra', 'gandhi', 'bapu']\n",
    "\n",
    "'''\n",
    "a). add an element 'freedom_fighter' in this list at the 0th index.\n",
    "'''\n",
    "\n",
    "name.insert(0,'freedom_fighter')\n",
    "\n",
    "\n",
    "#b)\n",
    "name = ['freedom_fighter', 'Mohan', 'dash', 'karam', 'chandra', 'gandhi', 'bapu']\n",
    "length1 = len((name[-len(name)+1:-1:2]))\n",
    "length2 = len((name[-len(name)+1:-1]))\n",
    "print(length1+length2)\n",
    "\n",
    "\n",
    "\"\"\"\n",
    "len of the list is 7 and when we solve '-len(name)+1:-1:2 it will give us -7+1:-1:2 ultimately it becomes [-6:-1:2] which will us len 3\n",
    "we solve length in same which will give us len = 5 and we add both the lengths the final output will be 8.\n",
    "\"\"\"\n",
    "\n",
    "#c)\n",
    "a = ['netaji', 'Bose']\n",
    "for i in a:\n",
    "    name.append(i)\n",
    "    \n",
    "name\n",
    "\n",
    "#d) find the value of temp\n",
    "name = ['Bapuji', 'dash', 'karam', 'chandra', 'gandhi', 'Mohan']\n",
    "temp= name[-1]\n",
    "name[-1] = name[0]\n",
    "name[0] = temp\n",
    "print(name)\n",
    "# value of temp = 'Mohan'"
   ]
  },
  {
   "cell_type": "code",
   "execution_count": 23,
   "id": "bc511254-4bd4-4584-8abd-eb760f9ee45d",
   "metadata": {},
   "outputs": [
    {
     "name": "stdout",
     "output_type": "stream",
     "text": [
      "2\n",
      "4\n",
      "7\n"
     ]
    }
   ],
   "source": [
    "'''\n",
    "Q1.4 find the output of the following\n",
    "'''\n",
    "\n",
    "animal =['Human', 'cat', 'mat', 'car', 'rat', 'Human', 'Lion']\n",
    "print(animal.count('Human'))\n",
    "print(animal.index('rat'))\n",
    "print(len(animal))\n",
    "\n",
    "# output is 2,4,7"
   ]
  },
  {
   "cell_type": "code",
   "execution_count": 29,
   "id": "f3e6276f-d847-4299-a9ef-b528b57a5760",
   "metadata": {},
   "outputs": [
    {
     "name": "stdout",
     "output_type": "stream",
     "text": [
      "8\n",
      "Navneet\n",
      "1\n",
      "ji\n",
      "22\n"
     ]
    }
   ],
   "source": [
    "# Q 1.5 \n",
    "tuple1 = (10,20, 'Apple', 3.4, 'a',['master', 'ji'], ('sita', 'geeta', 22), [{'roll_no': 1}, {'name': 'Navneet'}])\n",
    "\n",
    "#a) \n",
    "print(len(tuple1))\n",
    "\n",
    "#b)\n",
    "print(tuple1[-1][-1]['name'])\n",
    "\n",
    "#c) fetch the value of roll_no from this tuple\n",
    "print(tuple1[-1][0]['roll_no'])\n",
    "\n",
    "#d)\n",
    "print(tuple1[-3][1])\n",
    "\n",
    "#e) fetch the value of element '22' from this tuple\n",
    "print(tuple1[-2][-1])"
   ]
  },
  {
   "cell_type": "code",
   "execution_count": 1,
   "id": "0819fa63-8831-4fe2-9d5c-01a886daa6c5",
   "metadata": {},
   "outputs": [
    {
     "name": "stdin",
     "output_type": "stream",
     "text": [
      "enter the color green\n"
     ]
    },
    {
     "name": "stdout",
     "output_type": "stream",
     "text": [
      "go\n"
     ]
    }
   ],
   "source": [
    "# Q1.6 write a program to display the appropriate message as per the color of signal(RED- Stop? yellow - stay/ green - go) at the road crossing\n",
    "\n",
    "color = input('enter the color')\n",
    "if color == 'red':\n",
    "    print('stop')\n",
    "elif color == 'yellow':\n",
    "    print('stay')\n",
    "elif color == 'green':\n",
    "    print('go')"
   ]
  },
  {
   "cell_type": "code",
   "execution_count": 4,
   "id": "0b316bb3-f2e0-4ccb-8e11-5f1cb72f69d8",
   "metadata": {},
   "outputs": [
    {
     "name": "stdin",
     "output_type": "stream",
     "text": [
      "enter the first num 7\n",
      "enter the operation +\n",
      "enter the second num 9\n"
     ]
    },
    {
     "name": "stdout",
     "output_type": "stream",
     "text": [
      "16\n"
     ]
    }
   ],
   "source": [
    "# Q1.7 \n",
    "num1 = int(input('enter the first num'))\n",
    "opr = input('enter the operation')\n",
    "num2 = int(input('enter the second num'))\n",
    "\n",
    "if opr == '+':\n",
    "    print(num1 + num2)\n",
    "    \n",
    "elif opr == '-':\n",
    "    print(num1 - num2)\n",
    "    \n",
    "elif opr == '*':\n",
    "    print(num1 * num2)\n",
    "\n",
    "elif opr == '/':\n",
    "    print(num1 / num2)"
   ]
  },
  {
   "cell_type": "code",
   "execution_count": 2,
   "id": "05e8a657-cac8-4b2a-9f3d-62675c1d37bc",
   "metadata": {},
   "outputs": [
    {
     "name": "stdout",
     "output_type": "stream",
     "text": [
      "15\n"
     ]
    }
   ],
   "source": [
    "# Q1.8 write a program to find the larger of the three pre - specified number using ternary operaters\n",
    "a = 10\n",
    "b = 14\n",
    "c = 15\n",
    "\n",
    "largest = a if (a > b and a > c) else(b if b > c else c)\n",
    "print(largest)"
   ]
  },
  {
   "cell_type": "code",
   "execution_count": 3,
   "id": "5beacc67-4d41-4cc2-895f-ecf799b8d589",
   "metadata": {},
   "outputs": [
    {
     "name": "stdin",
     "output_type": "stream",
     "text": [
      "enter a number: 68\n"
     ]
    },
    {
     "name": "stdout",
     "output_type": "stream",
     "text": [
      "the factors of 68 are: 1 2 4 17 34 68 "
     ]
    }
   ],
   "source": [
    "# Q 1.9 write a program to find the factors of a whole number using a while loop in python\n",
    "def print_factors(n):\n",
    "    i = 1\n",
    "    while i <= n:\n",
    "        if n % i == 0:\n",
    "            print(i, end = \" \")\n",
    "        i += 1\n",
    "number= int(input('enter a number:'))\n",
    "print(f'the factors of {number} are:', end = ' ')\n",
    "print_factors(number)"
   ]
  },
  {
   "cell_type": "code",
   "execution_count": 4,
   "id": "d2137c54-4673-43e5-8454-6359c5f6050e",
   "metadata": {},
   "outputs": [
    {
     "name": "stdin",
     "output_type": "stream",
     "text": [
      "Enter a number (negative to stop):  6\n",
      "Enter a number (negative to stop):  5\n",
      "Enter a number (negative to stop):  4\n",
      "Enter a number (negative to stop):  3\n",
      "Enter a number (negative to stop):  5\n",
      "Enter a number (negative to stop):  -2\n"
     ]
    },
    {
     "name": "stdout",
     "output_type": "stream",
     "text": [
      "The sum of positive numbers entered is: 23\n"
     ]
    }
   ],
   "source": [
    "# Q1.10 write a program to find the sum of all the positive numbers entered by the user. as soon as the user enters a negative number, stop taking in any\n",
    "#further input from the user and display the sum.\n",
    "total_sum = 0\n",
    "\n",
    "while True:\n",
    "    num = int(input(\"Enter a number (negative to stop): \"))\n",
    "    if num < 0:\n",
    "        break\n",
    "    total_sum += num\n",
    "\n",
    "print(f\"The sum of positive numbers entered is: {total_sum}\")"
   ]
  },
  {
   "cell_type": "code",
   "execution_count": 5,
   "id": "bfcd0833-f726-4231-8b9d-ea68c1589272",
   "metadata": {},
   "outputs": [
    {
     "name": "stdout",
     "output_type": "stream",
     "text": [
      "2 3 5 7 11 13 17 19 23 29 31 37 41 43 47 53 59 61 67 71 73 79 83 89 97 "
     ]
    }
   ],
   "source": [
    "# Q1.11 write a program to find prime numbers between 2 to 100 using nested for loops in python\n",
    "for Number in range(2, 101):\n",
    "    count = 0\n",
    "    for i in range(2, (Number // 2) + 1):\n",
    "        if Number % i == 0:\n",
    "            count += 1\n",
    "            break\n",
    "    if count == 0 and Number != 1:\n",
    "        print(Number, end=' ')"
   ]
  },
  {
   "cell_type": "code",
   "execution_count": 9,
   "id": "71556c22-1919-423e-b172-28ca8af01024",
   "metadata": {},
   "outputs": [
    {
     "name": "stdin",
     "output_type": "stream",
     "text": [
      "enter the marks for 1st subject 89\n",
      "enter the marks for 2nd subject 90\n",
      "enter the marks for 3rd subject 97\n",
      "enter the marks for 4th subject 98\n",
      "enter the marks for 5th subject 78\n"
     ]
    },
    {
     "name": "stdout",
     "output_type": "stream",
     "text": [
      "subject marks list\n",
      "89\n",
      "90\n",
      "97\n",
      "98\n",
      "78\n",
      "A Grade\n"
     ]
    }
   ],
   "source": [
    "# Q1.12 \n",
    "s1 = int(input('enter the marks for 1st subject'))\n",
    "s2 = int(input('enter the marks for 2nd subject'))\n",
    "s3 = int(input('enter the marks for 3rd subject'))\n",
    "s4 = int(input('enter the marks for 4th subject'))\n",
    "s5 = int(input('enter the marks for 5th subject'))\n",
    "student_marks = [s1,s2,s3,s4,s5]\n",
    "print('subject marks list')\n",
    "for i in student_marks:\n",
    "    print(i)\n",
    "    \n",
    "total_percentage = s1+s2+s3+s4+s5/5*100\n",
    "total_percentage\n",
    "\n",
    "if total_percentage > 85:\n",
    "    print('A Grade')\n",
    "elif total_percentage < 85 and total_percentage >= 75:\n",
    "    print('B Grade')\n",
    "elif total_percentage < 75 and total_percentage >= 50:\n",
    "    print('C Grade')\n",
    "elif total_percentage < 50 and total_percentage >= 30:\n",
    "    print('D Grade')\n",
    "else:\n",
    "    print('Reappear')"
   ]
  },
  {
   "cell_type": "code",
   "execution_count": 11,
   "id": "aa70d70f-717d-44ef-8728-19a1fdce2092",
   "metadata": {},
   "outputs": [
    {
     "name": "stdin",
     "output_type": "stream",
     "text": [
      "enter the wavelength in nm 567\n"
     ]
    },
    {
     "name": "stdout",
     "output_type": "stream",
     "text": [
      "Green\n"
     ]
    }
   ],
   "source": [
    "# Q1.13\n",
    "wavelength = int(input('enter the wavelength in nm'))\n",
    "\n",
    "if wavelength >= 400 and wavelength < 440:\n",
    "    print('Violet')\n",
    "elif wavelength >= 440 and wavelength < 460:\n",
    "    print('indigo')\n",
    "elif wavelength >= 460 and wavelength < 500:\n",
    "    print('Blue')\n",
    "elif wavelength >= 500 and wavelength <570:\n",
    "    print('Green')\n",
    "elif wavelength >= 570 and wavelength < 590:\n",
    "    print('Yellow')\n",
    "elif wavelength >= 590 and wavelength < 620:\n",
    "    print('Orange')\n",
    "elif wavelength >= 620 and wavelength <= 720:\n",
    "    print('Red')\n",
    "else:\n",
    "    print('invalid wavelength')"
   ]
  },
  {
   "cell_type": "code",
   "execution_count": 27,
   "id": "7d422dce-7d5d-41a3-9a13-4ed3f1e59d55",
   "metadata": {},
   "outputs": [
    {
     "name": "stdout",
     "output_type": "stream",
     "text": [
      "Gravitational force between Earth and Sun: 3.54e+22 N\n",
      "Gravitational force between moon and Earth: 1.31e+15 N\n",
      "3.5401138490520174e+22\n"
     ]
    }
   ],
   "source": [
    "# Q1.14\n",
    "mass_earth = 5.972e24  # mass of earth in kilograms\n",
    "mass_moon = 7.34767309e22 # mass of moon in kilograms\n",
    "mass_sun = 1.989e30  # mass of sun in kilograms\n",
    "\n",
    "distance_earth_sun = 1.496e11  # average distance between earth and sun in meters\n",
    "distance_moon_earth = 3.844e8  # average distance between moon and earth in meters\n",
    "\n",
    "def gravitational_force_earth_sun(m1, m2, d):\n",
    "    G = 6.67e-11\n",
    "    force = (G * m1 * m2) / (d ** 2)\n",
    "    return force\n",
    "gravitational_force_value = gravitational_force_earth_sun(mass_earth,mass_sun , distance_earth_sun)\n",
    "print(f\"Gravitational force between Earth and Sun: {gravitational_force_value:.2e} N\")\n",
    "\n",
    "\n",
    "def gravitational_force_moon_earth(m1, m2, d):\n",
    "    G = 6.67e-11\n",
    "    force = (G * m1 * m2) / (d ** 2)\n",
    "    return force\n",
    "gravitational_force_value1 = gravitational_force_moon_earth(mass_moon,mass_earth, distance_earth_sun)\n",
    "print(f\"Gravitational force between moon and Earth: {gravitational_force_value1:.2e} N\")\n",
    "\n",
    "print(gravitational_force_value if gravitational_force_value > gravitational_force_value1 else gravitation_force_value1)\n",
    "\n",
    "# earth is more attracted to the other celstial body than moon because earth has higher mass."
   ]
  },
  {
   "cell_type": "code",
   "execution_count": 1,
   "id": "7759c598-54a9-4a2c-a2ed-72f55f2edfcd",
   "metadata": {},
   "outputs": [
    {
     "name": "stdout",
     "output_type": "stream",
     "text": [
      "Name: John Doe, Age: 20, Roll Number: 2021001\n",
      "Name: Jane Smith, Age: 21, Roll Number: 2021001\n"
     ]
    }
   ],
   "source": [
    "# Q2. \n",
    "class Student:\n",
    "    def __init__(self, name, age, roll_number):\n",
    "        self._name = name\n",
    "        self._age = age\n",
    "        self._roll_number = roll_number\n",
    "\n",
    "    # Getter methods\n",
    "    def get_name(self):\n",
    "        return self._name\n",
    "\n",
    "    def get_age(self):\n",
    "        return self._age\n",
    "\n",
    "    def get_roll_number(self):\n",
    "        return self._roll_number\n",
    "\n",
    "    # Setter methods\n",
    "    def set_name(self, name):\n",
    "        self._name = name\n",
    "\n",
    "    def set_age(self, age):\n",
    "        self._age = age\n",
    "\n",
    "    def set_roll_number(self, roll_number):\n",
    "        self._roll_number = roll_number\n",
    "\n",
    "    # Display student information\n",
    "    def display_info(self):\n",
    "        print(f\"Name: {self._name}, Age: {self._age}, Roll Number: {self._roll_number}\")\n",
    "\n",
    "    # Update student details\n",
    "    def update_details(self, name=None, age=None, roll_number=None):\n",
    "        if name:\n",
    "            self._name = name\n",
    "        if age:\n",
    "            self._age = age\n",
    "        if roll_number:\n",
    "            self._roll_number = roll_number\n",
    "\n",
    "            \n",
    "# Create a student instance\n",
    "student1 = Student(\"John Doe\", 20, \"2021001\")\n",
    "\n",
    "# Display initial student information\n",
    "student1.display_info()\n",
    "\n",
    "# Update student details\n",
    "student1.update_details(name=\"Jane Smith\", age=21)\n",
    "student1.display_info()"
   ]
  },
  {
   "cell_type": "code",
   "execution_count": 2,
   "id": "dd303629-20b7-485f-84ca-d7d0896d0f4f",
   "metadata": {},
   "outputs": [
    {
     "name": "stdout",
     "output_type": "stream",
     "text": [
      "The Great Gatsby by F. Scott Fitzgerald has been borrowed.\n",
      "The Great Gatsby is already borrowed.\n",
      "The Great Gatsby by F. Scott Fitzgerald has been returned.\n",
      "The Great Gatsby is already available in the library.\n",
      "Is 'The Great Gatsby' available? True\n"
     ]
    }
   ],
   "source": [
    "# Q3.\n",
    "class LibraryBook:\n",
    "    def __init__(self, bookname, author):\n",
    "        self._bookname = bookname\n",
    "        self._author = author\n",
    "        self._available = True\n",
    "\n",
    "    # Getter methods\n",
    "    def get_bookname(self):\n",
    "        return self._bookname\n",
    "\n",
    "    def get_author(self):\n",
    "        return self._author\n",
    "\n",
    "    def is_available(self):\n",
    "        return self._available\n",
    "\n",
    "    # Borrow book\n",
    "    def borrow(self):\n",
    "        if self._available:\n",
    "            self._available = False\n",
    "            print(f\"{self._bookname} by {self._author} has been borrowed.\")\n",
    "        else:\n",
    "            print(f\"{self._bookname} is already borrowed.\")\n",
    "\n",
    "    # Return book\n",
    "    def return_book(self):\n",
    "        if not self._available:\n",
    "            self._available = True\n",
    "            print(f\"{self._bookname} by {self._author} has been returned.\")\n",
    "        else:\n",
    "            print(f\"{self._bookname} is already available in the library.\")\n",
    "\n",
    "            \n",
    "# Create book instances\n",
    "book1 = LibraryBook(\"The Great Gatsby\", \"F. Scott Fitzgerald\")\n",
    "book2 = LibraryBook(\"To Kill a Mockingbird\", \"Harper Lee\")\n",
    "\n",
    "# Borrow a book\n",
    "book1.borrow()  # This should work\n",
    "\n",
    "# Try to borrow the same book again (should show a message that it's already borrowed)\n",
    "book1.borrow()\n",
    "\n",
    "# Return the book\n",
    "book1.return_book()  # This should work\n",
    "\n",
    "# Try to return the same book again (should show a message that it's already available)\n",
    "book1.return_book()\n",
    "\n",
    "# Check availability\n",
    "print(f\"Is '{book1.get_bookname()}' available? {book1.is_available()}\")"
   ]
  },
  {
   "cell_type": "code",
   "execution_count": 3,
   "id": "5dacfb3d-a2c8-4532-98ae-0eaba887e0a8",
   "metadata": {},
   "outputs": [
    {
     "name": "stdout",
     "output_type": "stream",
     "text": [
      "Alice deposited $200. Current balance: $1200\n",
      "Interest applied to Alice. New balance: $1224.0\n",
      "Balance for Alice: $1224.0\n",
      "Insufficient funds for withdrawal by Bob.\n",
      "Balance for Bob: $500\n"
     ]
    }
   ],
   "source": [
    "# Q4.\n",
    "class Account:\n",
    "    def __init__(self, name, account_number, balance):\n",
    "        self.name = name\n",
    "        self.account_number = account_number\n",
    "        self.balance = balance\n",
    "\n",
    "    def deposit(self, amount):\n",
    "        self.balance += amount\n",
    "        print(f\"{self.name} deposited ${amount}. Current balance: ${self.balance}\")\n",
    "\n",
    "    def withdraw(self, amount):\n",
    "        if self.balance >= amount:\n",
    "            self.balance -= amount\n",
    "            print(f\"{self.name} withdrew ${amount}. Current balance: ${self.balance}\")\n",
    "        else:\n",
    "            print(f\"Insufficient funds for withdrawal by {self.name}.\")\n",
    "\n",
    "    def get_balance(self):\n",
    "        print(f\"Balance for {self.name}: ${self.balance}\")\n",
    "\n",
    "\n",
    "class SavingsAccount(Account):\n",
    "    def __init__(self, name, account_number, balance):\n",
    "        super().__init__(name, account_number, balance)\n",
    "        self.interest_rate = 0.02  # Example interest rate for savings account\n",
    "\n",
    "    def apply_interest(self):\n",
    "        self.balance += self.balance * self.interest_rate\n",
    "        print(f\"Interest applied to {self.name}. New balance: ${self.balance}\")\n",
    "\n",
    "\n",
    "class CheckingAccount(Account):\n",
    "    def __init__(self, name, account_number, balance):\n",
    "        super().__init__(name, account_number, balance)\n",
    "        self.overdraft_limit = 1000  # Example overdraft limit for checking account\n",
    "\n",
    "    def withdraw(self, amount):\n",
    "        if self.balance + self.overdraft_limit >= amount:\n",
    "            super().withdraw(amount)\n",
    "        else:\n",
    "            print(f\"Insufficient funds (including overdraft) for withdrawal by {self.name}.\")\n",
    "\n",
    "\n",
    "\n",
    "if __name__ == \"__main__\":\n",
    "    savings = SavingsAccount(\"Alice\", \"SA001\", 1000)\n",
    "    checking = CheckingAccount(\"Bob\", \"CA001\", 500)\n",
    "\n",
    "    savings.deposit(200)\n",
    "    savings.apply_interest()\n",
    "    savings.get_balance()\n",
    "\n",
    "    checking.withdraw(700)\n",
    "    checking.get_balance()"
   ]
  },
  {
   "cell_type": "code",
   "execution_count": 4,
   "id": "1ac122c5-f08b-4d91-b5d4-fa41be3c7ce3",
   "metadata": {},
   "outputs": [
    {
     "name": "stdout",
     "output_type": "stream",
     "text": [
      "Dog says: Woof! Woof!\n",
      "Cat says: Meow! Meow!\n"
     ]
    }
   ],
   "source": [
    "#Q5.\n",
    "class Animal:\n",
    "    def make_sound(self):\n",
    "        raise NotImplementedError(\"Subclasses must implement make_sound() method.\")\n",
    "\n",
    "\n",
    "class Dog(Animal):\n",
    "    def make_sound(self):\n",
    "        return \"Woof! Woof!\"\n",
    "\n",
    "\n",
    "class Cat(Animal):\n",
    "    def make_sound(self):\n",
    "        return \"Meow! Meow!\"\n",
    "\n",
    "\n",
    "# Example usage\n",
    "if __name__ == \"__main__\":\n",
    "    dog = Dog()\n",
    "    cat = Cat()\n",
    "\n",
    "    print(f\"Dog says: {dog.make_sound()}\")\n",
    "    print(f\"Cat says: {cat.make_sound()}\")"
   ]
  },
  {
   "cell_type": "code",
   "execution_count": 5,
   "id": "5fbadf26-c9af-45f5-84ca-13176736a844",
   "metadata": {},
   "outputs": [
    {
     "name": "stdout",
     "output_type": "stream",
     "text": [
      "Menu ID: 101, Name: Margherita Pizza, Price: $12.99, Category: Main Course\n",
      "Cuisine: Italian\n",
      "Menu ID: 102, Name: Espresso, Price: $3.49, Category: Beverage\n",
      "Size: Small\n",
      "Menu ID: 101, Name: Margherita Pizza, Price: $14.99, Category: Main Course\n",
      "Cuisine: Italian\n",
      "Removing menu item Margherita Pizza (ID: 101)\n"
     ]
    }
   ],
   "source": [
    "# Q6.\n",
    "class MenuItem:\n",
    "    def __init__(self, name, description, price, category):\n",
    "        self._name = name\n",
    "        self._description = description\n",
    "        self._price = price\n",
    "        self._category = category\n",
    "        self._menu_id = None  # Unique identification number (hidden)\n",
    "\n",
    "    def set_menu_id(self, menu_id):\n",
    "        self._menu_id = menu_id\n",
    "\n",
    "    def get_menu_id(self):\n",
    "        return self._menu_id\n",
    "\n",
    "    def display_info(self):\n",
    "        print(f\"Menu ID: {self._menu_id}, Name: {self._name}, Price: ${self._price}, Category: {self._category}\")\n",
    "\n",
    "    def update_info(self, name=None, description=None, price=None, category=None):\n",
    "        if name:\n",
    "            self._name = name\n",
    "        if description:\n",
    "            self._description = description\n",
    "        if price:\n",
    "            self._price = price\n",
    "        if category:\n",
    "            self._category = category\n",
    "\n",
    "    def remove_item(self):\n",
    "        print(f\"Removing menu item {self._name} (ID: {self._menu_id})\")\n",
    "\n",
    "\n",
    "class FoodItem(MenuItem):\n",
    "    def __init__(self, name, description, price, category, cuisine):\n",
    "        super().__init__(name, description, price, category)\n",
    "        self._cuisine = cuisine\n",
    "\n",
    "    def display_info(self):\n",
    "        super().display_info()\n",
    "        print(f\"Cuisine: {self._cuisine}\")\n",
    "\n",
    "\n",
    "class BeverageItem(MenuItem):\n",
    "    def __init__(self, name, description, price, category, size):\n",
    "        super().__init__(name, description, price, category)\n",
    "        self._size = size\n",
    "\n",
    "    def display_info(self):\n",
    "        super().display_info()\n",
    "        print(f\"Size: {self._size}\")\n",
    "\n",
    "\n",
    "# Example usage\n",
    "if __name__ == \"__main__\":\n",
    "    pizza = FoodItem(\"Margherita Pizza\", \"Classic tomato and mozzarella\", 12.99, \"Main Course\", \"Italian\")\n",
    "    coffee = BeverageItem(\"Espresso\", \"Strong black coffee\", 3.49, \"Beverage\", \"Small\")\n",
    "\n",
    "    pizza.set_menu_id(101)\n",
    "    coffee.set_menu_id(102)\n",
    "\n",
    "    pizza.display_info()\n",
    "    coffee.display_info()\n",
    "\n",
    "    pizza.update_info(price=14.99)\n",
    "    pizza.display_info()\n",
    "\n",
    "    pizza.remove_item()"
   ]
  },
  {
   "cell_type": "code",
   "execution_count": 6,
   "id": "9a3ce4a7-2b91-4957-8d80-a70cd235153e",
   "metadata": {},
   "outputs": [
    {
     "name": "stdout",
     "output_type": "stream",
     "text": [
      "Room 101 booked successfully.\n",
      "Guest Alice checked in to Room 101.\n",
      "Suite Room 101 amenities: Jacuzzi, Balcony\n",
      "Room 102 booked successfully.\n",
      "Guest Bob checked out from Room 102.\n",
      "Standard Room 2 beds\n"
     ]
    }
   ],
   "source": [
    "# Q7.\n",
    "class Room:\n",
    "    def __init__(self, room_number, room_type, rate):\n",
    "        self._room_number = room_number\n",
    "        self._room_type = room_type\n",
    "        self._rate = rate\n",
    "        self._available = True  # Private attribute\n",
    "\n",
    "    def book_room(self):\n",
    "        if self._available:\n",
    "            self._available = False\n",
    "            print(f\"Room {self._room_number} booked successfully.\")\n",
    "        else:\n",
    "            print(f\"Room {self._room_number} is already booked.\")\n",
    "\n",
    "    def check_in(self, guest_name):\n",
    "        if not self._available:\n",
    "            print(f\"Guest {guest_name} checked in to Room {self._room_number}.\")\n",
    "        else:\n",
    "            print(f\"Room {self._room_number} is not booked yet.\")\n",
    "\n",
    "    def check_out(self, guest_name):\n",
    "        if not self._available:\n",
    "            self._available = True\n",
    "            print(f\"Guest {guest_name} checked out from Room {self._room_number}.\")\n",
    "        else:\n",
    "            print(f\"Room {self._room_number} is already available.\")\n",
    "\n",
    "    def get_rate(self):\n",
    "        return self._rate\n",
    "\n",
    "\n",
    "class SuiteRoom(Room):\n",
    "    def __init__(self, room_number, rate, extra_amenities):\n",
    "        super().__init__(room_number, \"Suite\", rate)\n",
    "        self._extra_amenities = extra_amenities\n",
    "\n",
    "    def display_amenities(self):\n",
    "        print(f\"Suite Room {self._room_number} amenities: {', '.join(self._extra_amenities)}\")\n",
    "\n",
    "\n",
    "class StandardRoom(Room):\n",
    "    def __init__(self, room_number, rate, bed_count):\n",
    "        super().__init__(room_number, \"Standard\", rate)\n",
    "        self._bed_count = bed_count\n",
    "\n",
    "    def get_bed_count(self):\n",
    "        return self._bed_count\n",
    "\n",
    "\n",
    "# Example usage\n",
    "if __name__ == \"__main__\":\n",
    "    suite = SuiteRoom(101, 200, [\"Jacuzzi\", \"Balcony\"])\n",
    "    standard = StandardRoom(102, 100, 2)\n",
    "\n",
    "    suite.book_room()\n",
    "    suite.check_in(\"Alice\")\n",
    "    suite.display_amenities()\n",
    "\n",
    "    standard.book_room()\n",
    "    standard.check_out(\"Bob\")\n",
    "    print(f\"Standard Room {standard.get_bed_count()} beds\")"
   ]
  },
  {
   "cell_type": "code",
   "execution_count": 7,
   "id": "cc5199bf-b8ee-4b87-8386-df2dda42b962",
   "metadata": {},
   "outputs": [
    {
     "name": "stdout",
     "output_type": "stream",
     "text": [
      "Member John Doe has been registered.\n",
      "Member ID: 7765263274089635745\n",
      "Membership for Jane Smith has been renewed.\n",
      "Preferred Trainer: Trainer Alex\n"
     ]
    }
   ],
   "source": [
    "# Q8.\n",
    "class Member:\n",
    "    def __init__(self, name, age, membership_type):\n",
    "        self.__name = name\n",
    "        self.__age = age\n",
    "        self.__membership_type = membership_type\n",
    "        self.__membership_status = False  # Initially set to False (not active)\n",
    "\n",
    "    def register_member(self):\n",
    "        self.__membership_status = True\n",
    "        print(f\"Member {self.__name} has been registered.\")\n",
    "\n",
    "    def renew_membership(self):\n",
    "        self.__membership_status = True\n",
    "        print(f\"Membership for {self.__name} has been renewed.\")\n",
    "\n",
    "    def cancel_membership(self):\n",
    "        self.__membership_status = False\n",
    "        print(f\"Membership for {self.__name} has been canceled.\")\n",
    "\n",
    "    # Encapsulated method to get the unique identification number\n",
    "    def get_member_id(self):\n",
    "        return hash(self.__name + str(self.__age))\n",
    "\n",
    "class FamilyMember(Member):\n",
    "    def __init__(self, name, age, membership_type, family_discount):\n",
    "        super().__init__(name, age, membership_type)\n",
    "        self.__family_discount = family_discount\n",
    "\n",
    "    def apply_family_discount(self, amount):\n",
    "        # Apply the family discount to the membership fee\n",
    "        return amount * (1 - self.__family_discount)\n",
    "\n",
    "class IndividualMember(Member):\n",
    "    def __init__(self, name, age, membership_type, preferred_trainer):\n",
    "        super().__init__(name, age, membership_type)\n",
    "        self.__preferred_trainer = preferred_trainer\n",
    "\n",
    "    def get_preferred_trainer(self):\n",
    "        return self.__preferred_trainer\n",
    "\n",
    "# Example usage:\n",
    "if __name__ == \"__main__\":\n",
    "    # Create a FamilyMember\n",
    "    family_member = FamilyMember(\"John Doe\", 35, \"Family\", 0.1)\n",
    "    family_member.register_member()\n",
    "    print(f\"Member ID: {family_member.get_member_id()}\")\n",
    "\n",
    "    # Create an IndividualMember\n",
    "    individual_member = IndividualMember(\"Jane Smith\", 28, \"Individual\", \"Trainer Alex\")\n",
    "    individual_member.renew_membership()\n",
    "    print(f\"Preferred Trainer: {individual_member.get_preferred_trainer()}\")"
   ]
  },
  {
   "cell_type": "code",
   "execution_count": 11,
   "id": "5afa2814-2239-4e50-b7a3-fc767415667e",
   "metadata": {},
   "outputs": [
    {
     "name": "stdout",
     "output_type": "stream",
     "text": [
      "Event 'Private Party' created on 2024-08-15 at 19:00 in Villa XYZ.\n",
      "Alice added to the attendee list.\n",
      "Event ID: 5559120802727049939\n",
      "Event 'Tech Conference' created on 2024-09-10 at 09:00 in Convention Center.\n",
      "Bob added to the attendee list.\n",
      "Is the public event full? False\n"
     ]
    }
   ],
   "source": [
    "# Q9.\n",
    "class Event:\n",
    "    def __init__(self, name, date, time, location):\n",
    "        self.__name = name\n",
    "        self.__date = date\n",
    "        self.__time = time\n",
    "        self.__location = location\n",
    "        self.__attendees = []  # Private list of attendees\n",
    "\n",
    "    def create_event(self):\n",
    "        print(f\"Event '{self.__name}' created on {self.__date} at {self.__time} in {self.__location}.\")\n",
    "\n",
    "    def add_attendee(self, attendee):\n",
    "        self.__attendees.append(attendee)\n",
    "        print(f\"{attendee} added to the attendee list.\")\n",
    "\n",
    "    def remove_attendee(self, attendee):\n",
    "        if attendee in self.__attendees:\n",
    "            self.__attendees.remove(attendee)\n",
    "            print(f\"{attendee} removed from the attendee list.\")\n",
    "        else:\n",
    "            print(f\"{attendee} is not in the attendee list.\")\n",
    "\n",
    "    def get_total_attendees(self):\n",
    "        return len(self.__attendees)\n",
    "\n",
    "    # Encapsulated method to generate a unique event ID\n",
    "    def __generate_event_id(self):\n",
    "        return hash(self.__name + self.__date)\n",
    "\n",
    "class PrivateEvent(Event):\n",
    "    def __init__(self, name, date, time, location, invitation_code):\n",
    "        super().__init__(name, date, time, location)\n",
    "        self.__invitation_code = invitation_code\n",
    "\n",
    "    def get_invitation_code(self):\n",
    "        return self.__invitation_code\n",
    "\n",
    "class PublicEvent(Event):\n",
    "    def __init__(self, name, date, time, location, max_capacity):\n",
    "        super().__init__(name, date, time, location)\n",
    "        self.__max_capacity = max_capacity\n",
    "\n",
    "    def is_full(self):\n",
    "        return len(self._Event__attendees) >= self.__max_capacity\n",
    "\n",
    "# Example usage:\n",
    "if __name__ == \"__main__\":\n",
    "    private_event = PrivateEvent(\"Private Party\", \"2024-08-15\", \"19:00\", \"Villa XYZ\", \"SECRET123\")\n",
    "    private_event.create_event()\n",
    "    private_event.add_attendee(\"Alice\")\n",
    "    print(f\"Event ID: {private_event._Event__generate_event_id()}\")\n",
    "\n",
    "    public_event = PublicEvent(\"Tech Conference\", \"2024-09-10\", \"09:00\", \"Convention Center\", 200)\n",
    "    public_event.create_event()\n",
    "    public_event.add_attendee(\"Bob\")\n",
    "    print(f\"Is the public event full? {public_event.is_full()}\")"
   ]
  },
  {
   "cell_type": "code",
   "execution_count": 12,
   "id": "79c51b65-2311-464d-aab9-32c4c0e9accc",
   "metadata": {},
   "outputs": [
    {
     "name": "stdout",
     "output_type": "stream",
     "text": [
      "Seat booked successfully.\n",
      "Remaining seats: 149\n",
      "Baggage allowance: 25 kg\n",
      "Reservation canceled.\n",
      "Is visa required? True\n"
     ]
    }
   ],
   "source": [
    "# Q10.\n",
    "class Flight:\n",
    "    def __init__(self, flight_number, departure_airport, arrival_airport, departure_time, arrival_time, total_seats):\n",
    "        self.__flight_number = flight_number\n",
    "        self.__departure_airport = departure_airport\n",
    "        self.__arrival_airport = arrival_airport\n",
    "        self.__departure_time = departure_time\n",
    "        self.__arrival_time = arrival_time\n",
    "        self.__available_seats = total_seats\n",
    "\n",
    "    def book_seat(self):\n",
    "        if self.__available_seats > 0:\n",
    "            self.__available_seats -= 1\n",
    "            print(\"Seat booked successfully.\")\n",
    "        else:\n",
    "            print(\"Sorry, no available seats.\")\n",
    "\n",
    "    def cancel_reservation(self):\n",
    "        self.__available_seats += 1\n",
    "        print(\"Reservation canceled.\")\n",
    "\n",
    "    def get_remaining_seats(self):\n",
    "        return self.__available_seats\n",
    "\n",
    "    # Encapsulated method to generate a unique flight number\n",
    "    def __generate_flight_number(self):\n",
    "        return hash(self.__flight_number)\n",
    "\n",
    "class DomesticFlight(Flight):\n",
    "    def __init__(self, flight_number, departure_airport, arrival_airport, departure_time, arrival_time, total_seats, baggage_allowance):\n",
    "        super().__init__(flight_number, departure_airport, arrival_airport, departure_time, arrival_time, total_seats)\n",
    "        self.__baggage_allowance = baggage_allowance\n",
    "\n",
    "    def get_baggage_allowance(self):\n",
    "        return self.__baggage_allowance\n",
    "\n",
    "class InternationalFlight(Flight):\n",
    "    def __init__(self, flight_number, departure_airport, arrival_airport, departure_time, arrival_time, total_seats, visa_required):\n",
    "        super().__init__(flight_number, departure_airport, arrival_airport, departure_time, arrival_time, total_seats)\n",
    "        self.__visa_required = visa_required\n",
    "\n",
    "    def is_visa_required(self):\n",
    "        return self.__visa_required\n",
    "\n",
    "# Example usage:\n",
    "if __name__ == \"__main__\":\n",
    "    domestic_flight = DomesticFlight(\"DF101\", \"JFK\", \"LAX\", \"08:00\", \"12:00\", 150, \"25 kg\")\n",
    "    domestic_flight.book_seat()\n",
    "    print(f\"Remaining seats: {domestic_flight.get_remaining_seats()}\")\n",
    "    print(f\"Baggage allowance: {domestic_flight.get_baggage_allowance()}\")\n",
    "\n",
    "    international_flight = InternationalFlight(\"IF201\", \"LHR\", \"JFK\", \"14:00\", \"20:00\", 200, True)\n",
    "    international_flight.cancel_reservation()\n",
    "    print(f\"Is visa required? {international_flight.is_visa_required()}\")"
   ]
  },
  {
   "cell_type": "code",
   "execution_count": 13,
   "id": "ed40c4de-5a4f-45c4-9f76-efcf84a2438e",
   "metadata": {},
   "outputs": [
    {
     "ename": "ModuleNotFoundError",
     "evalue": "No module named 'constants'",
     "output_type": "error",
     "traceback": [
      "\u001b[0;31m---------------------------------------------------------------------------\u001b[0m",
      "\u001b[0;31mModuleNotFoundError\u001b[0m                       Traceback (most recent call last)",
      "Cell \u001b[0;32mIn[13], line 10\u001b[0m\n\u001b[1;32m      7\u001b[0m \u001b[38;5;66;03m# Speed of light in meters per second (m/s)\u001b[39;00m\n\u001b[1;32m      8\u001b[0m SPEED_OF_LIGHT \u001b[38;5;241m=\u001b[39m \u001b[38;5;241m299792458\u001b[39m\n\u001b[0;32m---> 10\u001b[0m \u001b[38;5;28;01mfrom\u001b[39;00m \u001b[38;5;21;01mconstants\u001b[39;00m \u001b[38;5;28;01mimport\u001b[39;00m PI, SPEED_OF_LIGHT\n\u001b[1;32m     12\u001b[0m \u001b[38;5;28mprint\u001b[39m(\u001b[38;5;124mf\u001b[39m\u001b[38;5;124m\"\u001b[39m\u001b[38;5;124mThe value of pi is approximately \u001b[39m\u001b[38;5;132;01m{\u001b[39;00mPI\u001b[38;5;132;01m:\u001b[39;00m\u001b[38;5;124m.6f\u001b[39m\u001b[38;5;132;01m}\u001b[39;00m\u001b[38;5;124m\"\u001b[39m)\n\u001b[1;32m     13\u001b[0m \u001b[38;5;28mprint\u001b[39m(\u001b[38;5;124mf\u001b[39m\u001b[38;5;124m\"\u001b[39m\u001b[38;5;124mThe speed of light is approximately \u001b[39m\u001b[38;5;132;01m{\u001b[39;00mSPEED_OF_LIGHT\u001b[38;5;132;01m}\u001b[39;00m\u001b[38;5;124m m/s\u001b[39m\u001b[38;5;124m\"\u001b[39m)\n",
      "\u001b[0;31mModuleNotFoundError\u001b[0m: No module named 'constants'"
     ]
    }
   ],
   "source": [
    "# Q11.\n",
    "# constants.py\n",
    "\n",
    "# Mathematical constant pi (π)\n",
    "PI = 3.141592653589793\n",
    "\n",
    "# Speed of light in meters per second (m/s)\n",
    "SPEED_OF_LIGHT = 299792458\n",
    "\n",
    "from constants import PI, SPEED_OF_LIGHT\n",
    "\n",
    "print(f\"The value of pi is approximately {PI:.6f}\")\n",
    "print(f\"The speed of light is approximately {SPEED_OF_LIGHT} m/s\")"
   ]
  },
  {
   "cell_type": "code",
   "execution_count": 1,
   "id": "77c2f731-af8f-4353-85a6-38c1238f2cfa",
   "metadata": {},
   "outputs": [],
   "source": [
    "import numpy as np\n",
    "import pandas as pd\n",
    "import seaborn as sns\n",
    "import matplotlib.pyplot as plt\n",
    "\n",
    "import warnings\n",
    "warnings.filterwarnings(\"ignore\")"
   ]
  },
  {
   "cell_type": "code",
   "execution_count": 2,
   "id": "ddc2b3f2-c008-4143-ac3e-b3391f05bf74",
   "metadata": {},
   "outputs": [
    {
     "name": "stdout",
     "output_type": "stream",
     "text": [
      "Original string: hello world\n",
      "Reversed string: dlrow olleh\n",
      "Capitalized string: Hello World\n"
     ]
    }
   ],
   "source": [
    "#Q14. Implement a Python module named string_utils.py containing functions for string manipulation, such as reversing and capitalizing strings.\n",
    "\n",
    "# string_utils.py\n",
    "\n",
    "def reverse_string(input_string):\n",
    "    \"\"\"\n",
    "    Reverses the given string.\n",
    "    \"\"\"\n",
    "    return input_string[::-1]\n",
    "\n",
    "def capitalize_string(input_string):\n",
    "    \"\"\"\n",
    "    Capitalizes the first letter of each word in the given string.\n",
    "    \"\"\"\n",
    "    return input_string.title()\n",
    "\n",
    "if __name__ == \"__main__\":\n",
    "    # Example usage\n",
    "    original_string = \"hello world\"\n",
    "    reversed_result = reverse_string(original_string)\n",
    "    capitalized_result = capitalize_string(original_string)\n",
    "\n",
    "    print(f\"Original string: {original_string}\")\n",
    "    print(f\"Reversed string: {reversed_result}\")\n",
    "    print(f\"Capitalized string: {capitalized_result}\")\n"
   ]
  },
  {
   "cell_type": "code",
   "execution_count": 3,
   "id": "e0abc3f5-cfa0-43c7-a84a-83fcc1660eaf",
   "metadata": {},
   "outputs": [],
   "source": [
    "#Q15. Write a Python module named file_operations.py with functions for reading, writing, and appending data to a file.\n",
    "\n",
    "# file_operations.py\n",
    "\n",
    "def read_file(filename):\n",
    "    \"\"\"\n",
    "    Reads the contents of a file and returns them as a string.\n",
    "    \"\"\"\n",
    "    try:\n",
    "        with open(filename, 'r') as file:\n",
    "            return file.read()\n",
    "    except FileNotFoundError:\n",
    "        return f\"File '{filename}' not found.\"\n",
    "\n",
    "def write_to_file(filename, content):\n",
    "    \"\"\"\n",
    "    Writes the given content to a file (overwriting existing data).\n",
    "    \"\"\"\n",
    "    try:\n",
    "        with open(filename, 'w') as file:\n",
    "            file.write(content)\n",
    "        return f\"Data written to '{filename}' successfully.\"\n",
    "    except Exception as e:\n",
    "        return f\"Error writing to file: {e}\"\n",
    "\n",
    "def append_to_file(filename, content):\n",
    "    \"\"\"\n",
    "    Appends the given content to the end of an existing file.\n",
    "    \"\"\"\n",
    "    try:\n",
    "        with open(filename, 'a') as file:\n",
    "            file.write(content)\n",
    "        return f\"Data appended to '{filename}' successfully.\"\n",
    "    except Exception as e:\n",
    "        return f\"Error appending to file: {e}\""
   ]
  },
  {
   "cell_type": "code",
   "execution_count": 5,
   "id": "003f944c-0bcb-4562-8176-a7838d9de1db",
   "metadata": {},
   "outputs": [
    {
     "name": "stdin",
     "output_type": "stream",
     "text": [
      "Enter employee name (or 'exit' to stop):  exit\n"
     ]
    },
    {
     "name": "stdout",
     "output_type": "stream",
     "text": [
      "Employee details written to employees.txt\n"
     ]
    }
   ],
   "source": [
    "#Q16. Write a Python program to create a text file named \"employees.txt\" and write the details of employees, including their name, age, and salary, into the file.\n",
    "\n",
    "def write_employee_details(filename):\n",
    "    try:\n",
    "        with open(filename, 'w') as file:\n",
    "            while True:\n",
    "                name = input(\"Enter employee name (or 'exit' to stop): \")\n",
    "                if name.lower() == 'exit':\n",
    "                    break\n",
    "                age = int(input(\"Enter employee age: \"))\n",
    "                salary = float(input(\"Enter employee salary: \"))\n",
    "                file.write(f\"{name}, {age}, {salary:.2f}\\n\")\n",
    "        print(f\"Employee details written to {filename}\")\n",
    "    except Exception as e:\n",
    "        print(f\"Error writing to file: {e}\")\n",
    "\n",
    "if __name__ == \"__main__\":\n",
    "    filename = \"employees.txt\"\n",
    "    write_employee_details(filename)\n"
   ]
  },
  {
   "cell_type": "code",
   "execution_count": 6,
   "id": "3c8bebed-04d8-4972-a17b-68c2b902440d",
   "metadata": {},
   "outputs": [
    {
     "name": "stdout",
     "output_type": "stream",
     "text": [
      "File 'inventory.txt' not found.\n"
     ]
    }
   ],
   "source": [
    "#Q17. Develop a Python script that opens an existing text file named \"inventory.txt\" in read mode and displays the contents of the file line by line.\n",
    "\n",
    "def display_file_contents(filename):\n",
    "    try:\n",
    "        with open(filename, 'r') as file:\n",
    "            for line in file:\n",
    "                print(line.strip())  # Remove leading/trailing whitespace\n",
    "    except FileNotFoundError:\n",
    "        print(f\"File '{filename}' not found.\")\n",
    "\n",
    "if __name__ == \"__main__\":\n",
    "    filename = \"inventory.txt\"\n",
    "    display_file_contents(filename)"
   ]
  },
  {
   "cell_type": "code",
   "execution_count": 7,
   "id": "d759ae5a-6aa9-4671-9902-0460d1a5540f",
   "metadata": {},
   "outputs": [
    {
     "name": "stdout",
     "output_type": "stream",
     "text": [
      "File 'expenses.txt' not found.\n"
     ]
    }
   ],
   "source": [
    "#Q18. Create a Python script that reads a text file named \"expenses.txt\" and calculates the total amount spent on various expenses listed in the file.\n",
    "\n",
    "def calculate_total_expenses(filename):\n",
    "    total_amount = 0\n",
    "\n",
    "    try:\n",
    "        with open(filename, 'r') as file:\n",
    "            for line in file:\n",
    "                try:\n",
    "                    amount = float(line.strip())\n",
    "                    total_amount += amount\n",
    "                except ValueError:\n",
    "                    print(f\"Invalid amount in line: {line.strip()}\")\n",
    "\n",
    "        print(f\"Total amount spent: ${total_amount:.2f}\")\n",
    "    except FileNotFoundError:\n",
    "        print(f\"File '{filename}' not found.\")\n",
    "\n",
    "if __name__ == \"__main__\":\n",
    "    filename = \"expenses.txt\"\n",
    "    calculate_total_expenses(filename)"
   ]
  },
  {
   "cell_type": "code",
   "execution_count": 8,
   "id": "50f24c7c-a718-455d-975c-e82b19447346",
   "metadata": {},
   "outputs": [
    {
     "name": "stdout",
     "output_type": "stream",
     "text": [
      "File 'paragraph.txt' not found.\n"
     ]
    }
   ],
   "source": [
    "# Q19. Create a Python program that reads a text file named \"paragraph.txt\" and counts the occurrences of each word in the paragraph, displaying the results in alphabetical order.\n",
    "\n",
    "def count_word_occurrences(filename):\n",
    "    word_counts = {}\n",
    "    \n",
    "    try:\n",
    "        with open(filename, 'r') as file:\n",
    "            for line in file:\n",
    "                words = line.strip().lower().split()\n",
    "                for word in words:\n",
    "                    word_counts[word] = word_counts.get(word, 0) + 1\n",
    "    except FileNotFoundError:\n",
    "        print(f\"File '{filename}' not found.\")\n",
    "        return\n",
    "\n",
    "    # Sort the word counts alphabetically\n",
    "    sorted_counts = sorted(word_counts.items(), key=lambda x: x[0])\n",
    "\n",
    "    # Display the results\n",
    "    for word, count in sorted_counts:\n",
    "        print(f\"{word}: {count}\")\n",
    "\n",
    "if __name__ == \"__main__\":\n",
    "    filename = \"paragraph.txt\"\n",
    "    count_word_occurrences(filename)"
   ]
  },
  {
   "cell_type": "code",
   "execution_count": 9,
   "id": "d0c3b9dd-82d0-486f-add0-2326cb6ede08",
   "metadata": {},
   "outputs": [
    {
     "data": {
      "text/html": [
       "<div>\n",
       "<style scoped>\n",
       "    .dataframe tbody tr th:only-of-type {\n",
       "        vertical-align: middle;\n",
       "    }\n",
       "\n",
       "    .dataframe tbody tr th {\n",
       "        vertical-align: top;\n",
       "    }\n",
       "\n",
       "    .dataframe thead th {\n",
       "        text-align: right;\n",
       "    }\n",
       "</style>\n",
       "<table border=\"1\" class=\"dataframe\">\n",
       "  <thead>\n",
       "    <tr style=\"text-align: right;\">\n",
       "      <th></th>\n",
       "      <th>Students</th>\n",
       "      <th>Accountancy</th>\n",
       "      <th>Statistics</th>\n",
       "    </tr>\n",
       "  </thead>\n",
       "  <tbody>\n",
       "    <tr>\n",
       "      <th>Students</th>\n",
       "      <td>1.000000</td>\n",
       "      <td>0.279545</td>\n",
       "      <td>0.149549</td>\n",
       "    </tr>\n",
       "    <tr>\n",
       "      <th>Accountancy</th>\n",
       "      <td>0.279545</td>\n",
       "      <td>1.000000</td>\n",
       "      <td>0.928666</td>\n",
       "    </tr>\n",
       "    <tr>\n",
       "      <th>Statistics</th>\n",
       "      <td>0.149549</td>\n",
       "      <td>0.928666</td>\n",
       "      <td>1.000000</td>\n",
       "    </tr>\n",
       "  </tbody>\n",
       "</table>\n",
       "</div>"
      ],
      "text/plain": [
       "             Students  Accountancy  Statistics\n",
       "Students     1.000000     0.279545    0.149549\n",
       "Accountancy  0.279545     1.000000    0.928666\n",
       "Statistics   0.149549     0.928666    1.000000"
      ]
     },
     "execution_count": 9,
     "metadata": {},
     "output_type": "execute_result"
    }
   ],
   "source": [
    "# Q24. Calculate coefficient of correlation between the marks obtained by 10 students in Accountancy and statistics:\n",
    "\n",
    "df = pd.DataFrame({\"Students\": [1,2,3,4,5,6,7,8,9,10],\n",
    "                  \"Accountancy\": [45,70,65,30,90,40,50,75,85,60],\n",
    "                  \"Statistics\":[35,90,70,40,95,40,50,80,80,60]})\n",
    "\n",
    "df.corr()\n",
    "# hence correlation between accountancy and statistics is 0.9287"
   ]
  },
  {
   "cell_type": "code",
   "execution_count": null,
   "id": "e730f743-da1f-4395-abe1-adf4941d5f18",
   "metadata": {},
   "outputs": [],
   "source": [
    "# Q39.How would you create a basic Flask route that displays \"Hello, World!\" on the homepage?\n",
    "\n",
    "!pip install Flask\n",
    "from flask import Flask\n",
    "\n",
    "app = Flask(__name__)\n",
    "\n",
    "@app.route(\"/\")\n",
    "def hello():\n",
    "    return \"Hello, World!\"\n",
    "\n",
    "if __name__ == \"__main__\":\n",
    "    app.run()\n",
    "    "
   ]
  },
  {
   "cell_type": "code",
   "execution_count": 10,
   "id": "66e22d4e-9a04-48c9-9603-0e2191a82486",
   "metadata": {},
   "outputs": [
    {
     "name": "stdout",
     "output_type": "stream",
     "text": [
      " * Serving Flask app '__main__'\n",
      " * Debug mode: on\n"
     ]
    },
    {
     "name": "stderr",
     "output_type": "stream",
     "text": [
      "WARNING: This is a development server. Do not use it in a production deployment. Use a production WSGI server instead.\n",
      " * Running on http://127.0.0.1:5000\n",
      "Press CTRL+C to quit\n",
      " * Restarting with stat\n",
      "Traceback (most recent call last):\n",
      "  File \"/opt/conda/lib/python3.10/runpy.py\", line 196, in _run_module_as_main\n",
      "    return _run_code(code, main_globals, None,\n",
      "  File \"/opt/conda/lib/python3.10/runpy.py\", line 86, in _run_code\n",
      "    exec(code, run_globals)\n",
      "  File \"/opt/conda/lib/python3.10/site-packages/ipykernel_launcher.py\", line 17, in <module>\n",
      "    app.launch_new_instance()\n",
      "  File \"/opt/conda/lib/python3.10/site-packages/traitlets/config/application.py\", line 991, in launch_instance\n",
      "    app.initialize(argv)\n",
      "  File \"/opt/conda/lib/python3.10/site-packages/traitlets/config/application.py\", line 113, in inner\n",
      "    return method(app, *args, **kwargs)\n",
      "  File \"/opt/conda/lib/python3.10/site-packages/ipykernel/kernelapp.py\", line 665, in initialize\n",
      "    self.init_sockets()\n",
      "  File \"/opt/conda/lib/python3.10/site-packages/ipykernel/kernelapp.py\", line 309, in init_sockets\n",
      "    self.shell_port = self._bind_socket(self.shell_socket, self.shell_port)\n",
      "  File \"/opt/conda/lib/python3.10/site-packages/ipykernel/kernelapp.py\", line 246, in _bind_socket\n",
      "    return self._try_bind_socket(s, port)\n",
      "  File \"/opt/conda/lib/python3.10/site-packages/ipykernel/kernelapp.py\", line 222, in _try_bind_socket\n",
      "    s.bind(\"tcp://%s:%i\" % (self.ip, port))\n",
      "  File \"/opt/conda/lib/python3.10/site-packages/zmq/sugar/socket.py\", line 232, in bind\n",
      "    super().bind(addr)\n",
      "  File \"zmq/backend/cython/socket.pyx\", line 568, in zmq.backend.cython.socket.Socket.bind\n",
      "  File \"zmq/backend/cython/checkrc.pxd\", line 28, in zmq.backend.cython.checkrc._check_rc\n",
      "zmq.error.ZMQError: Address already in use\n"
     ]
    },
    {
     "ename": "SystemExit",
     "evalue": "1",
     "output_type": "error",
     "traceback": [
      "An exception has occurred, use %tb to see the full traceback.\n",
      "\u001b[0;31mSystemExit\u001b[0m\u001b[0;31m:\u001b[0m 1\n"
     ]
    }
   ],
   "source": [
    "# Q40.Explain how to set up a Flask application to handle form submissions using POST requests.\n",
    "\n",
    "from flask import Flask, request, render_template\n",
    "\n",
    "app = Flask(__name__)\n",
    "\n",
    "@app.route('/', methods=['GET', 'POST'])\n",
    "def index():\n",
    "    if request.method == 'POST':\n",
    "        user_input = request.form['user_input']  # Replace 'user_input' with your input field name\n",
    "        # Process the data (e.g., save to a database, perform calculations)\n",
    "        return f\"Received: {user_input}\"\n",
    "    return render_template('form.html')  # Display the form initially\n",
    "\n",
    "if __name__ == '__main__':\n",
    "    app.run(debug=True)"
   ]
  },
  {
   "cell_type": "code",
   "execution_count": 11,
   "id": "e1d8e7e4-b801-4b98-85c4-5a86654d53dd",
   "metadata": {},
   "outputs": [
    {
     "name": "stdout",
     "output_type": "stream",
     "text": [
      " * Serving Flask app '__main__'\n",
      " * Debug mode: on\n"
     ]
    },
    {
     "name": "stderr",
     "output_type": "stream",
     "text": [
      "WARNING: This is a development server. Do not use it in a production deployment. Use a production WSGI server instead.\n",
      " * Running on http://127.0.0.1:5000\n",
      "Press CTRL+C to quit\n",
      " * Restarting with stat\n",
      "Traceback (most recent call last):\n",
      "  File \"/opt/conda/lib/python3.10/runpy.py\", line 196, in _run_module_as_main\n",
      "    return _run_code(code, main_globals, None,\n",
      "  File \"/opt/conda/lib/python3.10/runpy.py\", line 86, in _run_code\n",
      "    exec(code, run_globals)\n",
      "  File \"/opt/conda/lib/python3.10/site-packages/ipykernel_launcher.py\", line 17, in <module>\n",
      "    app.launch_new_instance()\n",
      "  File \"/opt/conda/lib/python3.10/site-packages/traitlets/config/application.py\", line 991, in launch_instance\n",
      "    app.initialize(argv)\n",
      "  File \"/opt/conda/lib/python3.10/site-packages/traitlets/config/application.py\", line 113, in inner\n",
      "    return method(app, *args, **kwargs)\n",
      "  File \"/opt/conda/lib/python3.10/site-packages/ipykernel/kernelapp.py\", line 665, in initialize\n",
      "    self.init_sockets()\n",
      "  File \"/opt/conda/lib/python3.10/site-packages/ipykernel/kernelapp.py\", line 309, in init_sockets\n",
      "    self.shell_port = self._bind_socket(self.shell_socket, self.shell_port)\n",
      "  File \"/opt/conda/lib/python3.10/site-packages/ipykernel/kernelapp.py\", line 246, in _bind_socket\n",
      "    return self._try_bind_socket(s, port)\n",
      "  File \"/opt/conda/lib/python3.10/site-packages/ipykernel/kernelapp.py\", line 222, in _try_bind_socket\n",
      "    s.bind(\"tcp://%s:%i\" % (self.ip, port))\n",
      "  File \"/opt/conda/lib/python3.10/site-packages/zmq/sugar/socket.py\", line 232, in bind\n",
      "    super().bind(addr)\n",
      "  File \"zmq/backend/cython/socket.pyx\", line 568, in zmq.backend.cython.socket.Socket.bind\n",
      "  File \"zmq/backend/cython/checkrc.pxd\", line 28, in zmq.backend.cython.checkrc._check_rc\n",
      "zmq.error.ZMQError: Address already in use\n"
     ]
    },
    {
     "ename": "SystemExit",
     "evalue": "1",
     "output_type": "error",
     "traceback": [
      "An exception has occurred, use %tb to see the full traceback.\n",
      "\u001b[0;31mSystemExit\u001b[0m\u001b[0;31m:\u001b[0m 1\n"
     ]
    }
   ],
   "source": [
    "# Q41.Write a Flask route that accepts a parameter in the URL and displays it on the page.\n",
    "\n",
    "from flask import Flask\n",
    "\n",
    "app = Flask(__name__)\n",
    "\n",
    "@app.route('/greet/<name>')\n",
    "def greet(name):\n",
    "    return f\"Hello, {name}!\"\n",
    "\n",
    "if __name__ == '__main__':\n",
    "    app.run(debug=True)"
   ]
  },
  {
   "cell_type": "code",
   "execution_count": 13,
   "id": "742105a7-e74e-434b-9a7b-f0dce5d1800e",
   "metadata": {},
   "outputs": [
    {
     "ename": "ModuleNotFoundError",
     "evalue": "No module named 'flask_sqlalchemy'",
     "output_type": "error",
     "traceback": [
      "\u001b[0;31m---------------------------------------------------------------------------\u001b[0m",
      "\u001b[0;31mModuleNotFoundError\u001b[0m                       Traceback (most recent call last)",
      "Cell \u001b[0;32mIn[13], line 4\u001b[0m\n\u001b[1;32m      1\u001b[0m \u001b[38;5;66;03m# Q42.How can you implement user authentication in a Flask application?\u001b[39;00m\n\u001b[1;32m      3\u001b[0m \u001b[38;5;28;01mfrom\u001b[39;00m \u001b[38;5;21;01mflask\u001b[39;00m \u001b[38;5;28;01mimport\u001b[39;00m Flask, render_template, redirect, url_for\n\u001b[0;32m----> 4\u001b[0m \u001b[38;5;28;01mfrom\u001b[39;00m \u001b[38;5;21;01mflask_sqlalchemy\u001b[39;00m \u001b[38;5;28;01mimport\u001b[39;00m SQLAlchemy\n\u001b[1;32m      5\u001b[0m \u001b[38;5;28;01mfrom\u001b[39;00m \u001b[38;5;21;01mflask_login\u001b[39;00m \u001b[38;5;28;01mimport\u001b[39;00m LoginManager, login_user, login_required, logout_user\n\u001b[1;32m      6\u001b[0m \u001b[38;5;28;01mfrom\u001b[39;00m \u001b[38;5;21;01mflask_bcrypt\u001b[39;00m \u001b[38;5;28;01mimport\u001b[39;00m Bcrypt\n",
      "\u001b[0;31mModuleNotFoundError\u001b[0m: No module named 'flask_sqlalchemy'"
     ]
    }
   ],
   "source": [
    "# Q42.How can you implement user authentication in a Flask application?\n",
    "\n",
    "from flask import Flask, render_template, redirect, url_for\n",
    "from flask_sqlalchemy import SQLAlchemy\n",
    "from flask_login import LoginManager, login_user, login_required, logout_user\n",
    "from flask_bcrypt import Bcrypt\n",
    "from flask_wtf import FlaskForm\n",
    "from wtforms import StringField, PasswordField, SubmitField\n",
    "from wtforms.validators import DataRequired\n",
    "\n",
    "app = Flask(__name__)\n",
    "app.config['SECRET_KEY'] = 'your-secret-key'\n",
    "app.config['SQLALCHEMY_DATABASE_URI'] = 'sqlite:///site.db'\n",
    "db = SQLAlchemy(app)\n",
    "bcrypt = Bcrypt(app)\n",
    "login_manager = LoginManager(app)\n",
    "login_manager.login_view = 'login'\n",
    "\n",
    "class User(db.Model):\n",
    "    id = db.Column(db.Integer, primary_key=True)\n",
    "    username = db.Column(db.String(20), unique=True, nullable=False)\n",
    "    password_hash = db.Column(db.String(60), nullable=False)\n",
    "\n",
    "@login_manager.user_loader\n",
    "def load_user(user_id):\n",
    "    return User.query.get(int(user_id))\n",
    "\n",
    "class LoginForm(FlaskForm):\n",
    "    username = StringField('Username', validators=[DataRequired()])\n",
    "    password = PasswordField('Password', validators=[DataRequired()])\n",
    "    submit = SubmitField('Login')\n",
    "\n",
    "@app.route('/login', methods=['GET', 'POST'])\n",
    "def login():\n",
    "    form = LoginForm()\n",
    "    if form.validate_on_submit():\n",
    "        user = User.query.filter_by(username=form.username.data).first()\n",
    "        if user and bcrypt.check_password_hash(user.password_hash, form.password.data):\n",
    "            login_user(user)\n",
    "            return redirect(url_for('protected_route'))\n",
    "    return render_template('login.html', form=form)\n",
    "\n",
    "@app.route('/logout')\n",
    "@login_required\n",
    "def logout():\n",
    "    logout_user()\n",
    "    return redirect(url_for('login'))\n",
    "\n",
    "@app.route('/protected')\n",
    "@login_required\n",
    "def protected_route():\n",
    "    return \"Welcome to the protected route!\"\n",
    "\n",
    "if __name__ == '__main__':\n",
    "    app.run(debug=True)"
   ]
  },
  {
   "cell_type": "code",
   "execution_count": 14,
   "id": "63bd1d15-5073-4807-b7ec-e4976acdd160",
   "metadata": {},
   "outputs": [
    {
     "ename": "ModuleNotFoundError",
     "evalue": "No module named 'flask_sqlalchemy'",
     "output_type": "error",
     "traceback": [
      "\u001b[0;31m---------------------------------------------------------------------------\u001b[0m",
      "\u001b[0;31mModuleNotFoundError\u001b[0m                       Traceback (most recent call last)",
      "Cell \u001b[0;32mIn[14], line 8\u001b[0m\n\u001b[1;32m      4\u001b[0m app \u001b[38;5;241m=\u001b[39m Flask(\u001b[38;5;18m__name__\u001b[39m)\n\u001b[1;32m      6\u001b[0m app\u001b[38;5;241m.\u001b[39mconfig[\u001b[38;5;124m'\u001b[39m\u001b[38;5;124mSQLALCHEMY_DATABASE_URI\u001b[39m\u001b[38;5;124m'\u001b[39m] \u001b[38;5;241m=\u001b[39m \u001b[38;5;124m'\u001b[39m\u001b[38;5;124msqlite:///site.db\u001b[39m\u001b[38;5;124m'\u001b[39m\n\u001b[0;32m----> 8\u001b[0m \u001b[38;5;28;01mfrom\u001b[39;00m \u001b[38;5;21;01mflask_sqlalchemy\u001b[39;00m \u001b[38;5;28;01mimport\u001b[39;00m SQLAlchemy\n\u001b[1;32m      9\u001b[0m db \u001b[38;5;241m=\u001b[39m SQLAlchemy(app)\n\u001b[1;32m     11\u001b[0m \u001b[38;5;28;01mclass\u001b[39;00m \u001b[38;5;21;01mUser\u001b[39;00m(db\u001b[38;5;241m.\u001b[39mModel):\n",
      "\u001b[0;31mModuleNotFoundError\u001b[0m: No module named 'flask_sqlalchemy'"
     ]
    }
   ],
   "source": [
    "# Q43.Describe the process of connecting a Flask app to a SQLite database using SQLAlchemy.\n",
    "\n",
    "from flask import Flask\n",
    "app = Flask(__name__)\n",
    "\n",
    "app.config['SQLALCHEMY_DATABASE_URI'] = 'sqlite:///site.db'\n",
    "\n",
    "from flask_sqlalchemy import SQLAlchemy\n",
    "db = SQLAlchemy(app)\n",
    "\n",
    "class User(db.Model):\n",
    "    id = db.Column(db.Integer, primary_key=True)\n",
    "    username = db.Column(db.String(50), unique=True, nullable=False)\n",
    "    email = db.Column(db.String(120), unique=True, nullable=False)\n",
    "\n",
    "from app import db\n",
    "db.create_all()\n",
    "\n",
    "new_user = User(username='john_doe', email='john@example.com')\n",
    "db.session.add(new_user)\n",
    "db.session.commit()\n",
    "\n",
    "user = User.query.filter_by(username='john_doe').first()\n",
    "\n",
    "if __name__ == '__main__':\n",
    "    app.run(debug=True)\n"
   ]
  },
  {
   "cell_type": "code",
   "execution_count": 15,
   "id": "6adf592e-98e8-4bd3-a6b7-8e0751e8d57a",
   "metadata": {},
   "outputs": [
    {
     "name": "stdout",
     "output_type": "stream",
     "text": [
      " * Serving Flask app '__main__'\n",
      " * Debug mode: on\n"
     ]
    },
    {
     "name": "stderr",
     "output_type": "stream",
     "text": [
      "WARNING: This is a development server. Do not use it in a production deployment. Use a production WSGI server instead.\n",
      " * Running on http://127.0.0.1:5000\n",
      "Press CTRL+C to quit\n",
      " * Restarting with stat\n",
      "Traceback (most recent call last):\n",
      "  File \"/opt/conda/lib/python3.10/runpy.py\", line 196, in _run_module_as_main\n",
      "    return _run_code(code, main_globals, None,\n",
      "  File \"/opt/conda/lib/python3.10/runpy.py\", line 86, in _run_code\n",
      "    exec(code, run_globals)\n",
      "  File \"/opt/conda/lib/python3.10/site-packages/ipykernel_launcher.py\", line 17, in <module>\n",
      "    app.launch_new_instance()\n",
      "  File \"/opt/conda/lib/python3.10/site-packages/traitlets/config/application.py\", line 991, in launch_instance\n",
      "    app.initialize(argv)\n",
      "  File \"/opt/conda/lib/python3.10/site-packages/traitlets/config/application.py\", line 113, in inner\n",
      "    return method(app, *args, **kwargs)\n",
      "  File \"/opt/conda/lib/python3.10/site-packages/ipykernel/kernelapp.py\", line 665, in initialize\n",
      "    self.init_sockets()\n",
      "  File \"/opt/conda/lib/python3.10/site-packages/ipykernel/kernelapp.py\", line 309, in init_sockets\n",
      "    self.shell_port = self._bind_socket(self.shell_socket, self.shell_port)\n",
      "  File \"/opt/conda/lib/python3.10/site-packages/ipykernel/kernelapp.py\", line 246, in _bind_socket\n",
      "    return self._try_bind_socket(s, port)\n",
      "  File \"/opt/conda/lib/python3.10/site-packages/ipykernel/kernelapp.py\", line 222, in _try_bind_socket\n",
      "    s.bind(\"tcp://%s:%i\" % (self.ip, port))\n",
      "  File \"/opt/conda/lib/python3.10/site-packages/zmq/sugar/socket.py\", line 232, in bind\n",
      "    super().bind(addr)\n",
      "  File \"zmq/backend/cython/socket.pyx\", line 568, in zmq.backend.cython.socket.Socket.bind\n",
      "  File \"zmq/backend/cython/checkrc.pxd\", line 28, in zmq.backend.cython.checkrc._check_rc\n",
      "zmq.error.ZMQError: Address already in use\n"
     ]
    },
    {
     "ename": "SystemExit",
     "evalue": "1",
     "output_type": "error",
     "traceback": [
      "An exception has occurred, use %tb to see the full traceback.\n",
      "\u001b[0;31mSystemExit\u001b[0m\u001b[0;31m:\u001b[0m 1\n"
     ]
    }
   ],
   "source": [
    "# Q44.How would you create a RESTful API endpoint in Flask that returns JSON data?\n",
    "\n",
    "from flask import Flask, jsonify\n",
    "\n",
    "app = Flask(__name__)\n",
    "\n",
    "@app.route('/api/items', methods=['GET'])\n",
    "def get_items():\n",
    "    items = [\n",
    "        {'id': 1, 'name': 'Item 1'},\n",
    "        {'id': 2, 'name': 'Item 2'},\n",
    "        # Add more items as needed\n",
    "    ]\n",
    "    return jsonify(items)\n",
    "\n",
    "\n",
    "if __name__ == '__main__':\n",
    "    app.run(debug=True)\n"
   ]
  },
  {
   "cell_type": "code",
   "execution_count": 16,
   "id": "c74695bf-0d79-490a-9bcd-3c89d5bbd16d",
   "metadata": {},
   "outputs": [
    {
     "name": "stdout",
     "output_type": "stream",
     "text": [
      "Requirement already satisfied: Flask in /opt/conda/lib/python3.10/site-packages (3.0.3)\n",
      "Collecting pymongo\n",
      "  Downloading pymongo-4.8.0-cp310-cp310-manylinux_2_17_x86_64.manylinux2014_x86_64.whl (1.2 MB)\n",
      "\u001b[2K     \u001b[90m━━━━━━━━━━━━━━━━━━━━━━━━━━━━━━━━━━━━━━━━\u001b[0m \u001b[32m1.2/1.2 MB\u001b[0m \u001b[31m18.9 MB/s\u001b[0m eta \u001b[36m0:00:00\u001b[0m \u001b[36m0:00:01\u001b[0m\n",
      "\u001b[?25hRequirement already satisfied: Jinja2>=3.1.2 in /opt/conda/lib/python3.10/site-packages (from Flask) (3.1.2)\n",
      "Requirement already satisfied: blinker>=1.6.2 in /opt/conda/lib/python3.10/site-packages (from Flask) (1.8.2)\n",
      "Requirement already satisfied: click>=8.1.3 in /opt/conda/lib/python3.10/site-packages (from Flask) (8.1.3)\n",
      "Requirement already satisfied: itsdangerous>=2.1.2 in /opt/conda/lib/python3.10/site-packages (from Flask) (2.2.0)\n",
      "Requirement already satisfied: Werkzeug>=3.0.0 in /opt/conda/lib/python3.10/site-packages (from Flask) (3.0.3)\n",
      "Collecting dnspython<3.0.0,>=1.16.0\n",
      "  Downloading dnspython-2.6.1-py3-none-any.whl (307 kB)\n",
      "\u001b[2K     \u001b[90m━━━━━━━━━━━━━━━━━━━━━━━━━━━━━━━━━━━━━━\u001b[0m \u001b[32m307.7/307.7 kB\u001b[0m \u001b[31m22.6 MB/s\u001b[0m eta \u001b[36m0:00:00\u001b[0m\n",
      "\u001b[?25hRequirement already satisfied: MarkupSafe>=2.0 in /opt/conda/lib/python3.10/site-packages (from Jinja2>=3.1.2->Flask) (2.1.1)\n",
      "Installing collected packages: dnspython, pymongo\n",
      "Successfully installed dnspython-2.6.1 pymongo-4.8.0\n",
      " * Serving Flask app '__main__'\n",
      " * Debug mode: on\n"
     ]
    },
    {
     "name": "stderr",
     "output_type": "stream",
     "text": [
      "WARNING: This is a development server. Do not use it in a production deployment. Use a production WSGI server instead.\n",
      " * Running on http://127.0.0.1:5000\n",
      "Press CTRL+C to quit\n",
      " * Restarting with stat\n",
      "Traceback (most recent call last):\n",
      "  File \"/opt/conda/lib/python3.10/runpy.py\", line 196, in _run_module_as_main\n",
      "    return _run_code(code, main_globals, None,\n",
      "  File \"/opt/conda/lib/python3.10/runpy.py\", line 86, in _run_code\n",
      "    exec(code, run_globals)\n",
      "  File \"/opt/conda/lib/python3.10/site-packages/ipykernel_launcher.py\", line 17, in <module>\n",
      "    app.launch_new_instance()\n",
      "  File \"/opt/conda/lib/python3.10/site-packages/traitlets/config/application.py\", line 991, in launch_instance\n",
      "    app.initialize(argv)\n",
      "  File \"/opt/conda/lib/python3.10/site-packages/traitlets/config/application.py\", line 113, in inner\n",
      "    return method(app, *args, **kwargs)\n",
      "  File \"/opt/conda/lib/python3.10/site-packages/ipykernel/kernelapp.py\", line 665, in initialize\n",
      "    self.init_sockets()\n",
      "  File \"/opt/conda/lib/python3.10/site-packages/ipykernel/kernelapp.py\", line 309, in init_sockets\n",
      "    self.shell_port = self._bind_socket(self.shell_socket, self.shell_port)\n",
      "  File \"/opt/conda/lib/python3.10/site-packages/ipykernel/kernelapp.py\", line 246, in _bind_socket\n",
      "    return self._try_bind_socket(s, port)\n",
      "  File \"/opt/conda/lib/python3.10/site-packages/ipykernel/kernelapp.py\", line 222, in _try_bind_socket\n",
      "    s.bind(\"tcp://%s:%i\" % (self.ip, port))\n",
      "  File \"/opt/conda/lib/python3.10/site-packages/zmq/sugar/socket.py\", line 232, in bind\n",
      "    super().bind(addr)\n",
      "  File \"zmq/backend/cython/socket.pyx\", line 568, in zmq.backend.cython.socket.Socket.bind\n",
      "  File \"zmq/backend/cython/checkrc.pxd\", line 28, in zmq.backend.cython.checkrc._check_rc\n",
      "zmq.error.ZMQError: Address already in use\n"
     ]
    },
    {
     "ename": "SystemExit",
     "evalue": "1",
     "output_type": "error",
     "traceback": [
      "An exception has occurred, use %tb to see the full traceback.\n",
      "\u001b[0;31mSystemExit\u001b[0m\u001b[0;31m:\u001b[0m 1\n"
     ]
    }
   ],
   "source": [
    "# Q49. Make a fully functional web application using flask, Mangodb. Signup,Signin page.And after successfully login .Say hello Geeks message at webpage.\n",
    "\n",
    "!pip install Flask pymongo\n",
    "from flask import Flask, render_template, request, redirect, url_for, session\n",
    "from pymongo import MongoClient\n",
    "\n",
    "app = Flask(__name__)\n",
    "app.secret_key = 'your-secret-key'\n",
    "\n",
    "client = MongoClient('mongodb://localhost:27017/')\n",
    "db = client['mydb']\n",
    "users_collection = db['users']\n",
    "\n",
    "@app.route('/signup', methods=['GET', 'POST'])\n",
    "def signup():\n",
    "    if request.method == 'POST':\n",
    "        # Process signup form data (add user to MongoDB)\n",
    "        return redirect(url_for('signin'))\n",
    "    return render_template('signup.html')\n",
    "\n",
    "@app.route('/signin', methods=['GET', 'POST'])\n",
    "def signin():\n",
    "    if request.method == 'POST':\n",
    "        # Process signin form data (validate user from MongoDB)\n",
    "        session['username'] = request.form['username']\n",
    "        return redirect(url_for('dashboard'))\n",
    "    return render_template('signin.html')\n",
    "\n",
    "@app.route('/dashboard')\n",
    "def dashboard():\n",
    "    if 'username' in session:\n",
    "        return f\"Hello, Geeks! Welcome, {session['username']}!\"\n",
    "    return redirect(url_for('signin'))\n",
    "\n",
    "if __name__ == '__main__':\n",
    "    app.run(debug=True)\n"
   ]
  },
  {
   "cell_type": "code",
   "execution_count": null,
   "id": "48b05151-a034-4162-b50f-bfaf0dfd1b67",
   "metadata": {},
   "outputs": [],
   "source": []
  }
 ],
 "metadata": {
  "kernelspec": {
   "display_name": "Python 3 (ipykernel)",
   "language": "python",
   "name": "python3"
  },
  "language_info": {
   "codemirror_mode": {
    "name": "ipython",
    "version": 3
   },
   "file_extension": ".py",
   "mimetype": "text/x-python",
   "name": "python",
   "nbconvert_exporter": "python",
   "pygments_lexer": "ipython3",
   "version": "3.10.8"
  }
 },
 "nbformat": 4,
 "nbformat_minor": 5
}
